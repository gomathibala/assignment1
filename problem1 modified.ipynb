{
 "cells": [
  {
   "cell_type": "code",
   "execution_count": 1,
   "id": "8863c1ff",
   "metadata": {},
   "outputs": [
    {
     "name": "stdout",
     "output_type": "stream",
     "text": [
      "type length of perpendicular (and press return) :3\n"
     ]
    }
   ],
   "source": [
    "num_1= int(input( \"type length of perpendicular (and press return) :\"))"
   ]
  },
  {
   "cell_type": "code",
   "execution_count": 2,
   "id": "454d0041",
   "metadata": {},
   "outputs": [
    {
     "name": "stdout",
     "output_type": "stream",
     "text": [
      "type length of base and press return:4\n"
     ]
    }
   ],
   "source": [
    "num_2= int(input( \"type length of base and press return:\"))"
   ]
  },
  {
   "cell_type": "code",
   "execution_count": 3,
   "id": "76192669",
   "metadata": {},
   "outputs": [
    {
     "name": "stdout",
     "output_type": "stream",
     "text": [
      "type length of hypotneuse and press return: 5\n"
     ]
    }
   ],
   "source": [
    "num_3  = int(input (\"type length of hypotneuse and press return: \"))"
   ]
  },
  {
   "cell_type": "code",
   "execution_count": 4,
   "id": "2a8636d4",
   "metadata": {},
   "outputs": [],
   "source": [
    "calculated_hyp_square =   ( num_1**2) +  (num_2**2)"
   ]
  },
  {
   "cell_type": "code",
   "execution_count": 5,
   "id": "2f91a5fa",
   "metadata": {},
   "outputs": [
    {
     "name": "stdout",
     "output_type": "stream",
     "text": [
      "answer: 25\n"
     ]
    }
   ],
   "source": [
    "print(\"answer:\",calculated_hyp_square )"
   ]
  },
  {
   "cell_type": "code",
   "execution_count": 6,
   "id": "f53f25ab",
   "metadata": {},
   "outputs": [],
   "source": [
    "c=num_3**2"
   ]
  },
  {
   "cell_type": "code",
   "execution_count": 7,
   "id": "5adba22c",
   "metadata": {},
   "outputs": [
    {
     "name": "stdout",
     "output_type": "stream",
     "text": [
      "answer2: 25\n"
     ]
    }
   ],
   "source": [
    "print(\"answer2:\",c)"
   ]
  },
  {
   "cell_type": "code",
   "execution_count": 8,
   "id": "22319eb0",
   "metadata": {},
   "outputs": [
    {
     "name": "stdout",
     "output_type": "stream",
     "text": [
      "its pythogram tripple\n"
     ]
    }
   ],
   "source": [
    "if calculated_hyp_square == c :\n",
    " print(\"its pythogram tripple\")\n",
    "else :\n",
    " print(\"it is not pythogram tripple\")"
   ]
  }
 ],
 "metadata": {
  "kernelspec": {
   "display_name": "Python 3 (ipykernel)",
   "language": "python",
   "name": "python3"
  },
  "language_info": {
   "codemirror_mode": {
    "name": "ipython",
    "version": 3
   },
   "file_extension": ".py",
   "mimetype": "text/x-python",
   "name": "python",
   "nbconvert_exporter": "python",
   "pygments_lexer": "ipython3",
   "version": "3.10.9"
  }
 },
 "nbformat": 4,
 "nbformat_minor": 5
}
